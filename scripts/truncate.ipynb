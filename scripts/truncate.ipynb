{
 "cells": [
  {
   "cell_type": "code",
   "execution_count": 3,
   "metadata": {},
   "outputs": [],
   "source": [
    "import sqlite3"
   ]
  },
  {
   "cell_type": "code",
   "execution_count": null,
   "metadata": {},
   "outputs": [],
   "source": [
    "def truncate(dbin, dbout):\n",
    "    conn = sqlite3.connect(dbin)\n",
    "    c = conn.cursor()\n",
    "    c.execute(f'attach \"{dbout}\" as new')\n",
    "    tables = []\n",
    "    sqls = []\n",
    "    for table, sql in c.execute(\"select name, sql from sqlite_master\"):\n",
    "        if sql:\n",
    "            tables.append(table)\n",
    "            sqls.append(sql)\n",
    "    for sql in sqls:\n",
    "        sql1 = sql.replace(\"CREATE TABLE \", \"CREATE TABLE new.\")\n",
    "        c.execute(sql1)\n",
    "    for table in tables:\n",
    "        c.execute(f\"insert into new.{table} select * from {table} where t<=100\")\n",
    "    c.close()\n",
    "    conn.commit()\n",
    "    conn.close()"
   ]
  },
  {
   "cell_type": "code",
   "execution_count": 4,
   "metadata": {},
   "outputs": [],
   "source": [
    "dbinouts = [\n",
    "    (\"../S0_AdamsSS_t254.db\", \"S0_AdamsSS_t100.db\"),\n",
    "    (\"../C2_AdamsSS_t221.db\", \"C2_AdamsSS_t100.db\"),\n",
    "    (\"../Ceta_AdamsSS_t200.db\", \"Ceta_AdamsSS_t100.db\"),\n",
    "    (\"../Cnu_AdamsSS_t200.db\", \"Cnu_AdamsSS_t100.db\"),\n",
    "    (\"../Csigma_AdamsSS_t200.db\", \"Csigma_AdamsSS_t100.db\"),\n",
    "]\n",
    "for dbin, dbout in dbinouts:\n",
    "    truncate(dbin, dbout)"
   ]
  },
  {
   "cell_type": "code",
   "execution_count": 23,
   "metadata": {},
   "outputs": [],
   "source": []
  }
 ],
 "metadata": {
  "kernelspec": {
   "display_name": "Python 3.10.0 64-bit",
   "language": "python",
   "name": "python3"
  },
  "language_info": {
   "codemirror_mode": {
    "name": "ipython",
    "version": 3
   },
   "file_extension": ".py",
   "mimetype": "text/x-python",
   "name": "python",
   "nbconvert_exporter": "python",
   "pygments_lexer": "ipython3",
   "version": "3.10.0"
  },
  "orig_nbformat": 4,
  "vscode": {
   "interpreter": {
    "hash": "26de051ba29f2982a8de78e945f0abaf191376122a1563185a90213a26c5da77"
   }
  }
 },
 "nbformat": 4,
 "nbformat_minor": 2
}

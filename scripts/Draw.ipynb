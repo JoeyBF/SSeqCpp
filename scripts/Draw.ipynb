{
 "cells": [
  {
   "cell_type": "markdown",
   "metadata": {},
   "source": [
    "## Spectral sequence of a ring"
   ]
  },
  {
   "cell_type": "code",
   "execution_count": 6,
   "metadata": {},
   "outputs": [],
   "source": [
    "import plot\n",
    "path_ring = R'C:\\Users\\lwnpk\\Documents\\Projects\\algtop_cpp_build\\bin\\Release\\mix\\S0_AdamsSS_t261.db'\n",
    "data_ring = plot.load_ss_ring(path_ring)\n",
    "plot.export_ss_ring(data_ring)"
   ]
  },
  {
   "cell_type": "markdown",
   "metadata": {},
   "source": [
    "## Spectral sequence of a module"
   ]
  },
  {
   "cell_type": "code",
   "execution_count": 1,
   "metadata": {},
   "outputs": [],
   "source": [
    "import plot\n",
    "path_ring = R'C:\\Users\\lwnpk\\Documents\\Projects\\algtop_cpp_build\\bin\\Release\\debug\\S0_AdamsSS_t100.db'\n",
    "path_mod = R'C:\\Users\\lwnpk\\Documents\\Projects\\algtop_cpp_build\\bin\\Release\\debug\\Ceta_AdamsSS_t100.db'\n",
    "data_ring, data_mod = plot.load_ss_mod(path_ring, path_mod)\n",
    "plot.export_ss_mod(data_ring, data_mod)"
   ]
  },
  {
   "cell_type": "markdown",
   "metadata": {},
   "source": [
    "## Homotopy of a ring"
   ]
  },
  {
   "cell_type": "code",
   "execution_count": 1,
   "metadata": {},
   "outputs": [],
   "source": [
    "import plot\n",
    "path_ring = R'C:\\Users\\lwnpk\\Documents\\Projects\\algtop_cpp_build\\bin\\Release\\main\\S0_AdamsSS_t261.db'\n",
    "data = plot.load_pi_ring(path_ring)\n",
    "plot.export_pi_ring(data)"
   ]
  },
  {
   "cell_type": "markdown",
   "metadata": {},
   "source": [
    "## Homotopy of a module"
   ]
  },
  {
   "cell_type": "code",
   "execution_count": 70,
   "metadata": {},
   "outputs": [],
   "source": [
    "import plot\n",
    "path_ring = R'C:\\Users\\lwnpk\\Documents\\Projects\\algtop_cpp_build\\bin\\Release\\debug\\S0_AdamsSS_t100.db'\n",
    "path_mod = R'C:\\Users\\lwnpk\\Documents\\Projects\\algtop_cpp_build\\bin\\Release\\debug\\C2_AdamsSS_t100.db'\n",
    "data_ring, data_mod = plot.load_pi_mod(path_ring,path_mod)\n",
    "plot.export_pi_mod(data_ring, data_mod)"
   ]
  },
  {
   "cell_type": "markdown",
   "metadata": {},
   "source": [
    "## Homotopy exact sequence"
   ]
  },
  {
   "cell_type": "code",
   "execution_count": 3,
   "metadata": {},
   "outputs": [],
   "source": [
    "import plot\n",
    "path_ring = R'C:\\Users\\lwnpk\\Documents\\Projects\\algtop_cpp_build\\bin\\Release\\debug\\S0_AdamsSS_t100.db'\n",
    "path_mod = R'C:\\Users\\lwnpk\\Documents\\Projects\\algtop_cpp_build\\bin\\Release\\debug\\Csigma_AdamsSS_t100.db'\n",
    "data_ring, data_mod = plot.load_pi_mod(path_ring,path_mod)\n",
    "plot.export_pi_exact(data_ring, data_mod)"
   ]
  },
  {
   "cell_type": "markdown",
   "metadata": {},
   "source": [
    "## Spectral sequence of a module from resolution database"
   ]
  },
  {
   "cell_type": "code",
   "execution_count": 2,
   "metadata": {},
   "outputs": [],
   "source": [
    "import plot\n",
    "path = R'C:\\Users\\lwnpk\\Documents\\Projects\\algtop_cpp_build\\bin\\Release\\X2_Adams_res.db'\n",
    "data = plot.load_ss_from_res(path)\n",
    "plot.export_ss_from_res(data)"
   ]
  },
  {
   "cell_type": "code",
   "execution_count": null,
   "metadata": {},
   "outputs": [],
   "source": []
  },
  {
   "attachments": {},
   "cell_type": "markdown",
   "metadata": {},
   "source": [
    "## Update website pages"
   ]
  },
  {
   "cell_type": "code",
   "execution_count": 7,
   "metadata": {},
   "outputs": [],
   "source": [
    "import plot\n",
    "complexes = [\"S0\", \"C2\", \"Ceta\", \"Cnu\", \"Csigma\"]\n",
    "\n",
    "dir_db = 'C:/Users/lwnpk/Documents/Projects/algtop_cpp_build/bin/Release/auto100'\n",
    "dir_website = \"C:/Users/lwnpk/OneDrive/Projects/HTML/WayneLin92.github.io/ss-fb42729d/machine100\"\n",
    "\n",
    "for complex in complexes:\n",
    "    path_ring = f'{dir_db}/S0_AdamsSS_t100.db'\n",
    "    path_mod =  f'{dir_db}/{complex}_AdamsSS_t100.db'\n",
    "    if complex == \"S0\":\n",
    "        path_html = f\"{dir_website}/S0_AdamsE2_t100/index.html\"\n",
    "        path_js = f\"{dir_website}/S0_AdamsE2_t100/data.js\"\n",
    "        data_ring = plot.load_ss_ring(path_ring)\n",
    "        plot.export_ss_ring(data_ring, path_html, path_js)\n",
    "\n",
    "        path_html = f\"{dir_website}/S0_pi_t100/index.html\"\n",
    "        path_js = f\"{dir_website}/S0_pi_t100/data.js\"\n",
    "        data = plot.load_pi_ring(path_ring)\n",
    "        plot.export_pi_ring(data, path_html, path_js)\n",
    "    else:\n",
    "        path_html = f\"{dir_website}/{complex}_AdamsE2_t100/index.html\"\n",
    "        path_js = f\"{dir_website}/{complex}_AdamsE2_t100/data.js\"\n",
    "        data_ring, data_mod = plot.load_ss_mod(path_ring, path_mod)\n",
    "        plot.export_ss_mod(data_ring, data_mod, path_html, path_js)\n",
    "\n",
    "        path_html = f\"{dir_website}/{complex}_pi_t100/index.html\"\n",
    "        path_js = f\"{dir_website}/{complex}_pi_t100/data.js\"\n",
    "        data_ring, data_mod = plot.load_pi_mod(path_ring,path_mod)\n",
    "        plot.export_pi_mod(data_ring, data_mod, path_html, path_js)\n",
    "\n",
    "        path_html = f\"{dir_website}/{complex}_exact_t100/index.html\"\n",
    "        path_js = f\"{dir_website}/{complex}_exact_t100/data.js\"\n",
    "        data_ring, data_mod = plot.load_pi_mod(path_ring,path_mod)\n",
    "        plot.export_pi_exact(data_ring, data_mod, path_html, path_js)"
   ]
  },
  {
   "cell_type": "code",
   "execution_count": 3,
   "metadata": {},
   "outputs": [],
   "source": [
    "import plot\n",
    "complexes = [\"S0\", \"C2\", \"Ceta\", \"Cnu\", \"Csigma\"]\n",
    "\n",
    "dir_db = 'C:/Users/lwnpk/Documents/Projects/algtop_cpp_build/bin/Release/mix'\n",
    "dir_website = \"C:/Users/lwnpk/OneDrive/Projects/HTML/WayneLin92.github.io/ss-fb42729d/mix\"\n",
    "\n",
    "for complex in complexes:\n",
    "    path_ring = f'{dir_db}/S0_AdamsSS_t261.db'\n",
    "    t_trunc = 200 if complex != \"C2\" else 246\n",
    "    path_mod =  f'{dir_db}/{complex}_AdamsSS_t{t_trunc}.db'\n",
    "    if complex == \"S0\":\n",
    "        path_html = f\"{dir_website}/S0_AdamsE2_t261/index.html\"\n",
    "        path_js = f\"{dir_website}/S0_AdamsE2_t261/data.js\"\n",
    "        data_ring = plot.load_ss_ring(path_ring)\n",
    "        plot.export_ss_ring(data_ring, path_html, path_js)\n",
    "\n",
    "        path_html = f\"{dir_website}/S0_pi_t261/index.html\"\n",
    "        path_js = f\"{dir_website}/S0_pi_t261/data.js\"\n",
    "        data = plot.load_pi_ring(path_ring)\n",
    "        plot.export_pi_ring(data, path_html, path_js)\n",
    "    else:\n",
    "        path_html = f\"{dir_website}/{complex}_AdamsE2_t{t_trunc}/index.html\"\n",
    "        path_js = f\"{dir_website}/{complex}_AdamsE2_t{t_trunc}/data.js\"\n",
    "        data_ring, data_mod = plot.load_ss_mod(path_ring, path_mod)\n",
    "        plot.export_ss_mod(data_ring, data_mod, path_html, path_js)\n",
    "\n",
    "        path_html = f\"{dir_website}/{complex}_pi_t{t_trunc}/index.html\"\n",
    "        path_js = f\"{dir_website}/{complex}_pi_t{t_trunc}/data.js\"\n",
    "        data_ring, data_mod = plot.load_pi_mod(path_ring,path_mod)\n",
    "        plot.export_pi_mod(data_ring, data_mod, path_html, path_js)\n",
    "\n",
    "        path_html = f\"{dir_website}/{complex}_exact_t{t_trunc}/index.html\"\n",
    "        path_js = f\"{dir_website}/{complex}_exact_t{t_trunc}/data.js\"\n",
    "        data_ring, data_mod = plot.load_pi_mod(path_ring,path_mod)\n",
    "        plot.export_pi_exact(data_ring, data_mod, path_html, path_js)"
   ]
  },
  {
   "cell_type": "code",
   "execution_count": null,
   "metadata": {},
   "outputs": [],
   "source": [
    "import plot\n",
    "complexes = [\"S0\", \"C2\", \"Ceta\", \"Cnu\", \"Csigma\"]\n",
    "\n",
    "dir_db = 'C:/Users/lwnpk/Documents/Projects/algtop_cpp_build/bin/Release/main'\n",
    "dir_website = \"C:/Users/lwnpk/OneDrive/Projects/HTML/WayneLin92.github.io/ss-fb42729d/machine\"\n",
    "\n",
    "for complex in complexes:\n",
    "    path_ring = f'{dir_db}/S0_AdamsSS_t261.db'\n",
    "    t_trunc = 200 if complex != \"C2\" else 246\n",
    "    path_mod =  f'{dir_db}/{complex}_AdamsSS_t{t_trunc}.db'\n",
    "    if complex == \"S0\":\n",
    "        path_html = f\"{dir_website}/S0_AdamsE2_t261/index.html\"\n",
    "        path_js = f\"{dir_website}/S0_AdamsE2_t261/data.js\"\n",
    "        data_ring = plot.load_ss_ring(path_ring)\n",
    "        plot.export_ss_ring(data_ring, path_html, path_js)\n",
    "\n",
    "        path_html = f\"{dir_website}/S0_pi_t261/index.html\"\n",
    "        path_js = f\"{dir_website}/S0_pi_t261/data.js\"\n",
    "        data = plot.load_pi_ring(path_ring)\n",
    "        plot.export_pi_ring(data, path_html, path_js)\n",
    "    else:\n",
    "        path_html = f\"{dir_website}/{complex}_AdamsE2_t{t_trunc}/index.html\"\n",
    "        path_js = f\"{dir_website}/{complex}_AdamsE2_t{t_trunc}/data.js\"\n",
    "        data_ring, data_mod = plot.load_ss_mod(path_ring, path_mod)\n",
    "        plot.export_ss_mod(data_ring, data_mod, path_html, path_js)\n",
    "\n",
    "        path_html = f\"{dir_website}/{complex}_pi_t{t_trunc}/index.html\"\n",
    "        path_js = f\"{dir_website}/{complex}_pi_t{t_trunc}/data.js\"\n",
    "        data_ring, data_mod = plot.load_pi_mod(path_ring,path_mod)\n",
    "        plot.export_pi_mod(data_ring, data_mod, path_html, path_js)\n",
    "\n",
    "        path_html = f\"{dir_website}/{complex}_exact_t{t_trunc}/index.html\"\n",
    "        path_js = f\"{dir_website}/{complex}_exact_t{t_trunc}/data.js\"\n",
    "        data_ring, data_mod = plot.load_pi_mod(path_ring,path_mod)\n",
    "        plot.export_pi_exact(data_ring, data_mod, path_html, path_js)"
   ]
  },
  {
   "cell_type": "code",
   "execution_count": null,
   "metadata": {},
   "outputs": [],
   "source": []
  }
 ],
 "metadata": {
  "kernelspec": {
   "display_name": "Python 3",
   "language": "python",
   "name": "python3"
  },
  "language_info": {
   "codemirror_mode": {
    "name": "ipython",
    "version": 3
   },
   "file_extension": ".py",
   "mimetype": "text/x-python",
   "name": "python",
   "nbconvert_exporter": "python",
   "pygments_lexer": "ipython3",
   "version": "3.11.0"
  },
  "orig_nbformat": 4,
  "vscode": {
   "interpreter": {
    "hash": "5238573367df39f7286bb46f9ff5f08f63a01a80960060ce41e3c79b190280fa"
   }
  }
 },
 "nbformat": 4,
 "nbformat_minor": 2
}

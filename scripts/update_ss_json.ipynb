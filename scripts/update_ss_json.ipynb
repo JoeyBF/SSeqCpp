{
 "cells": [
  {
   "cell_type": "code",
   "execution_count": 1,
   "metadata": {},
   "outputs": [],
   "source": [
    "from pathlib import Path\n",
    "import re\n",
    "import shutil"
   ]
  },
  {
   "cell_type": "code",
   "execution_count": 2,
   "metadata": {},
   "outputs": [],
   "source": [
    "str_path_ss = R\"C:\\Users\\lwnpk\\Documents\\Projects\\algtop_cpp_build\\bin\\Release\\mix\"\n",
    "str_path_download = R\"Z:\\download\"\n",
    "# str_path_ss = R\"/Users/weinanlin/Projects/algtop_cpp_build/bin/mix\"\n",
    "# str_path_download = R\"/Users/weinanlin/MyData/Math_AlgTop/databases/download\"\n",
    "path_ss = Path(str_path_ss)\n",
    "path_download = Path(str_path_download)"
   ]
  },
  {
   "cell_type": "code",
   "execution_count": 3,
   "metadata": {},
   "outputs": [],
   "source": [
    "is_AdamsSS_regex = \"(^(\\\\w+)_AdamsSS_t(\\\\d+).db$)\"\n",
    "is_map_SS_regex = \"(^map_AdamsSS_(\\\\w+_to_\\\\w+)_t(\\\\d+).db$)\""
   ]
  },
  {
   "cell_type": "code",
   "execution_count": 4,
   "metadata": {},
   "outputs": [],
   "source": [
    "def get_data(path_dir: Path):\n",
    "    spectra = {}\n",
    "    maps = {}\n",
    "    for path_file in path_dir.iterdir():\n",
    "        matches = re.findall(is_AdamsSS_regex, path_file.name)\n",
    "        if matches:\n",
    "            if matches[0][1] not in spectra or spectra[matches[0][1]][\"t_max\"] < int(matches[0][2]):\n",
    "                spectra[matches[0][1]] = {\"path\": matches[0][0], \"full_path\": str(path_file), \"t_max\": int(matches[0][2])}\n",
    "        else:\n",
    "            matches = re.findall(is_map_SS_regex, path_file.name)\n",
    "            if matches:\n",
    "                if matches[0][1] not in maps or maps[matches[0][1]][\"t_max\"] < int(matches[0][2]):\n",
    "                    maps[matches[0][1]] = {\"path\": matches[0][0], \"full_path\": str(path_file), \"t_max\": int(matches[0][2])}\n",
    "    return spectra, maps"
   ]
  },
  {
   "cell_type": "code",
   "execution_count": 5,
   "metadata": {},
   "outputs": [],
   "source": [
    "spectra_ss, maps_ss = get_data(path_ss)\n",
    "spectra_d, maps_d = get_data(path_download)"
   ]
  },
  {
   "cell_type": "code",
   "execution_count": 6,
   "metadata": {},
   "outputs": [
    {
     "name": "stdout",
     "output_type": "stream",
     "text": [
      "CW_2_A_nu 157 -> 160\n",
      "CW_2_A_sigma 126 -> 155\n",
      "CW_2_V_nu 155 -> 161\n",
      "CW_2_V_sigma 156 -> 164\n",
      "CW_eta_A_sigma 156 -> 158\n",
      "CW_eta_V_sigma 154 -> 158\n",
      "Fphi10 155 -> 156\n",
      "CW_2_A_nu_to_C2 151 -> 160\n",
      "CW_2_A_nu_to_Cnu 148 -> 160\n",
      "CW_2_A_nu_to_Q_C2_Cnu 149 -> 160\n",
      "CW_2_A_sigma_to_C2 117 -> 155\n",
      "CW_2_A_sigma_to_Csigma 113 -> 155\n",
      "CW_2_A_sigma_to_Q_C2_Csigma 118 -> 147\n",
      "CW_2_V_nu_to_C2_Cnu 148 -> 161\n",
      "CW_2_V_sigma_to_C2_Csigma 150 -> 164\n",
      "CW_eta_2_eta_Eq_2_nu_to_CW_eta_A_nu 170 -> 181\n",
      "CW_eta_2_to_Fphi4 175 -> 180\n",
      "CW_eta_A_nu_to_Ceta 164 -> 174\n",
      "CW_eta_A_nu_to_Cnu 164 -> 175\n",
      "CW_eta_A_nu_to_Q_Ceta_Cnu 166 -> 178\n",
      "CW_eta_A_nu_to_Q_CW_eta_2_eta_Eq_2_nu 162 -> 172\n",
      "CW_eta_A_nu_to_Q_CW_eta_nu_eta_Eq_nu_nu 161 -> 173\n",
      "CW_eta_A_sigma_to_Ceta 145 -> 149\n",
      "CW_eta_A_sigma_to_Csigma 119 -> 158\n",
      "CW_eta_A_sigma_to_Q_Ceta_Csigma 146 -> 158\n",
      "CW_eta_nu_eta_Eq_nu_nu_to_CW_eta_A_nu 158 -> 171\n",
      "CW_eta_V_sigma_to_Ceta_Csigma 142 -> 158\n",
      "CW_nu_A_sigma_to_Cnu 165 -> 176\n",
      "CW_nu_A_sigma_to_Csigma 164 -> 176\n",
      "CW_nu_A_sigma_to_Q_Cnu_Csigma 166 -> 179\n",
      "CW_nu_A_sigma_to_Q_CW_nu_sigma_nu_Eq_sigma_sigma 162 -> 174\n",
      "CW_nu_sigma_nu_Eq_sigma_sigma_to_CW_nu_A_sigma 160 -> 171\n",
      "Fphi10_to_Fphi12 150 -> 154\n",
      "Fphi10_to_RP1_10 149 -> 156\n",
      "Fphi12_to_Fphi14 150 -> 154\n",
      "Fphi12_to_RP1_12 149 -> 154\n",
      "Fphi14_to_Fphi16 150 -> 152\n",
      "Fphi14_to_RP1_14 121 -> 154\n",
      "Fphi16_to_RP1_16 148 -> 152\n",
      "Fphi4_to_Fphi6 172 -> 180\n",
      "Fphi4_to_RP1_4 173 -> 180\n",
      "Fphi6_to_Fphi8 151 -> 155\n",
      "Fphi6_to_RP1_6 169 -> 180\n",
      "Fphi8_to_Fphi10 150 -> 155\n",
      "Fphi8_to_RP1_8 148 -> 155\n"
     ]
    }
   ],
   "source": [
    "with open(path_ss / \"ss.json\") as fp:\n",
    "    content = fp.read()\n",
    "for name_d in spectra_d:\n",
    "    if name_d in spectra_ss and spectra_d[name_d][\"t_max\"] > spectra_ss[name_d][\"t_max\"]:\n",
    "        t_max_d, t_max_ss = spectra_d[name_d][\"t_max\"], spectra_ss[name_d][\"t_max\"]\n",
    "        print(name_d, t_max_ss, \"->\", t_max_d)\n",
    "        content = re.sub(f\"{spectra_ss[name_d]['path']}\", f\"{spectra_d[name_d]['path']}\", content)\n",
    "for name_d in maps_d:\n",
    "    if name_d in maps_ss and maps_d[name_d][\"t_max\"] > maps_ss[name_d][\"t_max\"]:\n",
    "        t_max_d, t_max_ss = maps_d[name_d][\"t_max\"], maps_ss[name_d][\"t_max\"]\n",
    "        print(name_d, t_max_ss, \"->\", t_max_d)\n",
    "        content = re.sub(f\"{maps_ss[name_d]['path']}(.*)\\\"t_max\\\": {t_max_ss}\", f\"{maps_d[name_d]['path']}\\\\1\\\"t_max\\\": {t_max_d}\",  content)\n",
    "for name_d in spectra_d:\n",
    "    if name_d in spectra_ss and spectra_d[name_d][\"t_max\"] > spectra_ss[name_d][\"t_max\"]:\n",
    "        t_max_d, t_max_ss = spectra_d[name_d][\"t_max\"], spectra_ss[name_d][\"t_max\"]\n",
    "        Path(spectra_ss[name_d]['full_path']).unlink()\n",
    "        shutil.move(spectra_d[name_d]['full_path'], path_ss / spectra_d[name_d]['path'])\n",
    "for name_d in maps_d:\n",
    "    if name_d in maps_ss and maps_d[name_d][\"t_max\"] > maps_ss[name_d][\"t_max\"]:\n",
    "        t_max_d, t_max_ss = maps_d[name_d][\"t_max\"], maps_ss[name_d][\"t_max\"]\n",
    "        Path(maps_ss[name_d]['full_path']).unlink()\n",
    "        shutil.move(maps_d[name_d]['full_path'], path_ss / maps_d[name_d]['path'])\n",
    "with open(path_ss / \"ss.json\", \"w\") as fp:\n",
    "    fp.write(content)"
   ]
  },
  {
   "cell_type": "code",
   "execution_count": 7,
   "metadata": {},
   "outputs": [
    {
     "data": {
      "text/plain": [
       "1"
      ]
     },
     "execution_count": 7,
     "metadata": {},
     "output_type": "execute_result"
    }
   ],
   "source": [
    "1"
   ]
  },
  {
   "cell_type": "code",
   "execution_count": null,
   "metadata": {},
   "outputs": [],
   "source": []
  }
 ],
 "metadata": {
  "kernelspec": {
   "display_name": "Python 3",
   "language": "python",
   "name": "python3"
  },
  "language_info": {
   "codemirror_mode": {
    "name": "ipython",
    "version": 3
   },
   "file_extension": ".py",
   "mimetype": "text/x-python",
   "name": "python",
   "nbconvert_exporter": "python",
   "pygments_lexer": "ipython3",
   "version": "3.11.0"
  },
  "orig_nbformat": 4
 },
 "nbformat": 4,
 "nbformat_minor": 2
}

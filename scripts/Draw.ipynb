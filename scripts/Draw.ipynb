{
 "cells": [
  {
   "cell_type": "markdown",
   "metadata": {},
   "source": [
    "## Spectral sequence of a ring"
   ]
  },
  {
   "cell_type": "code",
   "execution_count": 7,
   "metadata": {},
   "outputs": [],
   "source": [
    "import plot\n",
    "path_ring = R'C:\\Users\\lwnpk\\Documents\\Projects\\algtop_cpp_build\\bin\\Release\\mix\\S0_AdamsSS_t261.db'\n",
    "data_ring = plot.load_ss_ring(path_ring)\n",
    "plot.export_ss_ring(data_ring)"
   ]
  },
  {
   "cell_type": "markdown",
   "metadata": {},
   "source": [
    "## Spectral sequence of a module"
   ]
  },
  {
   "cell_type": "code",
   "execution_count": 1,
   "metadata": {},
   "outputs": [
    {
     "ename": "OperationalError",
     "evalue": "no such table: tmf_C2_AdamsE2_basis",
     "output_type": "error",
     "traceback": [
      "\u001b[1;31m---------------------------------------------------------------------------\u001b[0m",
      "\u001b[1;31mOperationalError\u001b[0m                          Traceback (most recent call last)",
      "\u001b[1;32mc:\\Users\\lwnpk\\OneDrive\\Projects\\algtop_cpp\\scripts\\Draw.ipynb Cell 4\u001b[0m in \u001b[0;36m4\n\u001b[0;32m      <a href='vscode-notebook-cell:/c%3A/Users/lwnpk/OneDrive/Projects/algtop_cpp/scripts/Draw.ipynb#W3sZmlsZQ%3D%3D?line=1'>2</a>\u001b[0m path_ring \u001b[39m=\u001b[39m \u001b[39mR\u001b[39m\u001b[39m'\u001b[39m\u001b[39mC:\u001b[39m\u001b[39m\\\u001b[39m\u001b[39mUsers\u001b[39m\u001b[39m\\\u001b[39m\u001b[39mlwnpk\u001b[39m\u001b[39m\\\u001b[39m\u001b[39mDocuments\u001b[39m\u001b[39m\\\u001b[39m\u001b[39mProjects\u001b[39m\u001b[39m\\\u001b[39m\u001b[39malgtop_cpp_build\u001b[39m\u001b[39m\\\u001b[39m\u001b[39mbin\u001b[39m\u001b[39m\\\u001b[39m\u001b[39mRelease\u001b[39m\u001b[39m\\\u001b[39m\u001b[39mtmf_AdamsSS.db\u001b[39m\u001b[39m'\u001b[39m\n\u001b[0;32m      <a href='vscode-notebook-cell:/c%3A/Users/lwnpk/OneDrive/Projects/algtop_cpp/scripts/Draw.ipynb#W3sZmlsZQ%3D%3D?line=2'>3</a>\u001b[0m path_mod \u001b[39m=\u001b[39m \u001b[39mR\u001b[39m\u001b[39m'\u001b[39m\u001b[39mC:\u001b[39m\u001b[39m\\\u001b[39m\u001b[39mUsers\u001b[39m\u001b[39m\\\u001b[39m\u001b[39mlwnpk\u001b[39m\u001b[39m\\\u001b[39m\u001b[39mDocuments\u001b[39m\u001b[39m\\\u001b[39m\u001b[39mProjects\u001b[39m\u001b[39m\\\u001b[39m\u001b[39malgtop_cpp_build\u001b[39m\u001b[39m\\\u001b[39m\u001b[39mbin\u001b[39m\u001b[39m\\\u001b[39m\u001b[39mRelease\u001b[39m\u001b[39m\\\u001b[39m\u001b[39mtmf_C2_AdamsSS.db\u001b[39m\u001b[39m'\u001b[39m\n\u001b[1;32m----> <a href='vscode-notebook-cell:/c%3A/Users/lwnpk/OneDrive/Projects/algtop_cpp/scripts/Draw.ipynb#W3sZmlsZQ%3D%3D?line=3'>4</a>\u001b[0m data_ring, data_mod \u001b[39m=\u001b[39m plot\u001b[39m.\u001b[39;49mload_ss_mod(path_ring, path_mod)\n\u001b[0;32m      <a href='vscode-notebook-cell:/c%3A/Users/lwnpk/OneDrive/Projects/algtop_cpp/scripts/Draw.ipynb#W3sZmlsZQ%3D%3D?line=4'>5</a>\u001b[0m plot\u001b[39m.\u001b[39mexport_ss_mod(data_ring, data_mod)\n",
      "File \u001b[1;32mc:\\Users\\lwnpk\\OneDrive\\Projects\\algtop_cpp\\scripts\\plot.py:329\u001b[0m, in \u001b[0;36mload_ss_mod\u001b[1;34m(path_ring, path_mod)\u001b[0m\n\u001b[0;32m    324\u001b[0m data_ring[\u001b[39m\"\u001b[39m\u001b[39mgen_names\u001b[39m\u001b[39m\"\u001b[39m] \u001b[39m=\u001b[39m load_gen_names(\n\u001b[0;32m    325\u001b[0m     c_ring, complex_ring \u001b[39m+\u001b[39m \u001b[39m\"\u001b[39m\u001b[39m_AdamsE2_generators\u001b[39m\u001b[39m\"\u001b[39m, \u001b[39m\"\u001b[39m\u001b[39mx\u001b[39m\u001b[39m\"\u001b[39m\n\u001b[0;32m    326\u001b[0m )\n\u001b[0;32m    328\u001b[0m is_ring \u001b[39m=\u001b[39m \u001b[39mFalse\u001b[39;00m\n\u001b[1;32m--> 329\u001b[0m data_mod \u001b[39m=\u001b[39m load_basis(c_mod, complex_mod, is_ring)\n\u001b[0;32m    330\u001b[0m data_mod[\u001b[39m\"\u001b[39m\u001b[39mgen_names\u001b[39m\u001b[39m\"\u001b[39m] \u001b[39m=\u001b[39m load_gen_names(\n\u001b[0;32m    331\u001b[0m     c_mod, complex_mod \u001b[39m+\u001b[39m \u001b[39m\"\u001b[39m\u001b[39m_AdamsE2_generators\u001b[39m\u001b[39m\"\u001b[39m, \u001b[39m\"\u001b[39m\u001b[39mi\u001b[39m\u001b[39m\"\u001b[39m\n\u001b[0;32m    332\u001b[0m )\n\u001b[0;32m    333\u001b[0m data_mod[\u001b[39m\"\u001b[39m\u001b[39mbasis_ss\u001b[39m\u001b[39m\"\u001b[39m] \u001b[39m=\u001b[39m load_basis_ss(c_mod, complex_mod)\n",
      "File \u001b[1;32mc:\\Users\\lwnpk\\OneDrive\\Projects\\algtop_cpp\\scripts\\plot.py:100\u001b[0m, in \u001b[0;36mload_basis\u001b[1;34m(c, complex, is_ring)\u001b[0m\n\u001b[0;32m     98\u001b[0m index \u001b[39m=\u001b[39m \u001b[39m0\u001b[39m\n\u001b[0;32m     99\u001b[0m sql \u001b[39m=\u001b[39m \u001b[39mf\u001b[39m\u001b[39m\"\u001b[39m\u001b[39mSELECT mon, s, t FROM \u001b[39m\u001b[39m{\u001b[39;00m\u001b[39mcomplex\u001b[39m\u001b[39m}\u001b[39;00m\u001b[39m_AdamsE2_basis ORDER BY id\u001b[39m\u001b[39m\"\u001b[39m\n\u001b[1;32m--> 100\u001b[0m \u001b[39mfor\u001b[39;00m str_mon, s, t \u001b[39min\u001b[39;00m c\u001b[39m.\u001b[39;49mexecute(sql):\n\u001b[0;32m    101\u001b[0m     \u001b[39mif\u001b[39;00m is_ring:\n\u001b[0;32m    102\u001b[0m         mon \u001b[39m=\u001b[39m \u001b[39mlist\u001b[39m(\u001b[39mmap\u001b[39m(\u001b[39mint\u001b[39m, str_mon\u001b[39m.\u001b[39msplit(\u001b[39m\"\u001b[39m\u001b[39m,\u001b[39m\u001b[39m\"\u001b[39m))) \u001b[39mif\u001b[39;00m \u001b[39mlen\u001b[39m(str_mon) \u001b[39m>\u001b[39m \u001b[39m0\u001b[39m \u001b[39melse\u001b[39;00m []\n",
      "\u001b[1;31mOperationalError\u001b[0m: no such table: tmf_C2_AdamsE2_basis"
     ]
    }
   ],
   "source": [
    "import plot\n",
    "path_ring = R'C:\\Users\\lwnpk\\Documents\\Projects\\algtop_cpp_build\\bin\\Release\\tmf_AdamsSS.db'\n",
    "path_mod = R'C:\\Users\\lwnpk\\Documents\\Projects\\algtop_cpp_build\\bin\\Release\\tmf_C2_AdamsSS.db'\n",
    "data_ring, data_mod = plot.load_ss_mod(path_ring, path_mod)\n",
    "plot.export_ss_mod(data_ring, data_mod)"
   ]
  },
  {
   "cell_type": "markdown",
   "metadata": {},
   "source": [
    "## Homotopy of a ring"
   ]
  },
  {
   "cell_type": "code",
   "execution_count": 1,
   "metadata": {},
   "outputs": [],
   "source": [
    "import plot\n",
    "path_ring = R'C:\\Users\\lwnpk\\Documents\\Projects\\algtop_cpp_build\\bin\\Release\\main\\S0_AdamsSS_t261.db'\n",
    "data = plot.load_pi_ring(path_ring)\n",
    "plot.export_pi_ring(data)"
   ]
  },
  {
   "cell_type": "markdown",
   "metadata": {},
   "source": [
    "## Homotopy of a module"
   ]
  },
  {
   "cell_type": "code",
   "execution_count": 70,
   "metadata": {},
   "outputs": [],
   "source": [
    "import plot\n",
    "path_ring = R'C:\\Users\\lwnpk\\Documents\\Projects\\algtop_cpp_build\\bin\\Release\\debug\\S0_AdamsSS_t100.db'\n",
    "path_mod = R'C:\\Users\\lwnpk\\Documents\\Projects\\algtop_cpp_build\\bin\\Release\\debug\\C2_AdamsSS_t100.db'\n",
    "data_ring, data_mod = plot.load_pi_mod(path_ring,path_mod)\n",
    "plot.export_pi_mod(data_ring, data_mod)"
   ]
  },
  {
   "cell_type": "markdown",
   "metadata": {},
   "source": [
    "## Homotopy exact sequence"
   ]
  },
  {
   "cell_type": "code",
   "execution_count": 3,
   "metadata": {},
   "outputs": [],
   "source": [
    "import plot\n",
    "path_ring = R'C:\\Users\\lwnpk\\Documents\\Projects\\algtop_cpp_build\\bin\\Release\\debug\\S0_AdamsSS_t100.db'\n",
    "path_mod = R'C:\\Users\\lwnpk\\Documents\\Projects\\algtop_cpp_build\\bin\\Release\\debug\\Csigma_AdamsSS_t100.db'\n",
    "data_ring, data_mod = plot.load_pi_mod(path_ring,path_mod)\n",
    "plot.export_pi_exact(data_ring, data_mod)"
   ]
  },
  {
   "cell_type": "markdown",
   "metadata": {},
   "source": [
    "## Spectral sequence of a module from resolution database"
   ]
  },
  {
   "cell_type": "code",
   "execution_count": 1,
   "metadata": {},
   "outputs": [],
   "source": [
    "import plot\n",
    "path = R'C:\\Users\\lwnpk\\Documents\\Projects\\algtop_cpp_build\\bin\\Release\\RP1_10_Adams_res.db'\n",
    "data = plot.load_ss_from_res(path)\n",
    "plot.export_ss_from_res(data)"
   ]
  },
  {
   "cell_type": "code",
   "execution_count": null,
   "metadata": {},
   "outputs": [],
   "source": []
  },
  {
   "attachments": {},
   "cell_type": "markdown",
   "metadata": {},
   "source": [
    "## Update website pages"
   ]
  },
  {
   "cell_type": "code",
   "execution_count": 29,
   "metadata": {},
   "outputs": [],
   "source": [
    "import plot\n",
    "complexes = [\"S0\", \"C2\", \"Ceta\", \"Cnu\", \"Csigma\"]\n",
    "\n",
    "dir_db = 'C:/Users/lwnpk/Documents/Projects/algtop_cpp_build/bin/Release/mix100'\n",
    "dir_website = \"C:/Users/lwnpk/OneDrive/Projects/HTML/WayneLin92.github.io/ss-fb42729d/mix100\"\n",
    "\n",
    "for complex in complexes:\n",
    "    path_ring = f'{dir_db}/S0_AdamsSS_t100.db'\n",
    "    path_mod =  f'{dir_db}/{complex}_AdamsSS_t100.db'\n",
    "    if complex == \"S0\":\n",
    "        path_html = f\"{dir_website}/S0_AdamsE2_t100/index.html\"\n",
    "        path_js = f\"{dir_website}/S0_AdamsE2_t100/data.js\"\n",
    "        data_ring = plot.load_ss_ring(path_ring)\n",
    "        plot.export_ss_ring(data_ring, path_html, path_js)\n",
    "\n",
    "        path_html = f\"{dir_website}/S0_pi_t100/index.html\"\n",
    "        path_js = f\"{dir_website}/S0_pi_t100/data.js\"\n",
    "        data = plot.load_pi_ring(path_ring)\n",
    "        plot.export_pi_ring(data, path_html, path_js)\n",
    "    else:\n",
    "        path_html = f\"{dir_website}/{complex}_AdamsE2_t100/index.html\"\n",
    "        path_js = f\"{dir_website}/{complex}_AdamsE2_t100/data.js\"\n",
    "        data_ring, data_mod = plot.load_ss_mod(path_ring, path_mod)\n",
    "        plot.export_ss_mod(data_ring, data_mod, path_html, path_js)\n",
    "\n",
    "        path_html = f\"{dir_website}/{complex}_pi_t100/index.html\"\n",
    "        path_js = f\"{dir_website}/{complex}_pi_t100/data.js\"\n",
    "        data_ring, data_mod = plot.load_pi_mod(path_ring,path_mod)\n",
    "        plot.export_pi_mod(data_ring, data_mod, path_html, path_js)\n",
    "\n",
    "        path_html = f\"{dir_website}/{complex}_exact_t100/index.html\"\n",
    "        path_js = f\"{dir_website}/{complex}_exact_t100/data.js\"\n",
    "        data_ring, data_mod = plot.load_pi_mod(path_ring,path_mod)\n",
    "        plot.export_pi_exact(data_ring, data_mod, path_html, path_js)"
   ]
  },
  {
   "cell_type": "code",
   "execution_count": null,
   "metadata": {},
   "outputs": [],
   "source": []
  }
 ],
 "metadata": {
  "kernelspec": {
   "display_name": "Python 3",
   "language": "python",
   "name": "python3"
  },
  "language_info": {
   "codemirror_mode": {
    "name": "ipython",
    "version": 3
   },
   "file_extension": ".py",
   "mimetype": "text/x-python",
   "name": "python",
   "nbconvert_exporter": "python",
   "pygments_lexer": "ipython3",
   "version": "3.11.0"
  },
  "orig_nbformat": 4,
  "vscode": {
   "interpreter": {
    "hash": "5238573367df39f7286bb46f9ff5f08f63a01a80960060ce41e3c79b190280fa"
   }
  }
 },
 "nbformat": 4,
 "nbformat_minor": 2
}

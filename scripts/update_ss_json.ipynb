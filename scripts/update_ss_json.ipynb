{
 "cells": [
  {
   "cell_type": "code",
   "execution_count": 1,
   "metadata": {},
   "outputs": [],
   "source": [
    "from pathlib import Path\n",
    "import re\n",
    "import shutil"
   ]
  },
  {
   "cell_type": "code",
   "execution_count": 2,
   "metadata": {},
   "outputs": [],
   "source": [
    "str_path_ss = R\"C:\\Users\\lwnpk\\Documents\\Projects\\algtop_cpp_build\\bin\\Release\\mix\"\n",
    "str_path_download = R\"Z:\\download\"\n",
    "# str_path_ss = R\"/Users/weinanlin/Projects/algtop_cpp_build/bin/mix\"\n",
    "# str_path_download = R\"/Users/weinanlin/MyData/Math_AlgTop/databases/download\"\n",
    "path_ss = Path(str_path_ss)\n",
    "path_download = Path(str_path_download)"
   ]
  },
  {
   "cell_type": "code",
   "execution_count": 3,
   "metadata": {},
   "outputs": [],
   "source": [
    "is_AdamsSS_regex = \"(^(\\\\w+)_AdamsSS_t(\\\\d+).db$)\"\n",
    "is_map_SS_regex = \"(^map_AdamsSS_(\\\\w+_to_\\\\w+)_t(\\\\d+).db$)\""
   ]
  },
  {
   "cell_type": "code",
   "execution_count": 4,
   "metadata": {},
   "outputs": [],
   "source": [
    "def get_data(path_dir: Path):\n",
    "    spectra = {}\n",
    "    maps = {}\n",
    "    for path_file in path_dir.iterdir():\n",
    "        matches = re.findall(is_AdamsSS_regex, path_file.name)\n",
    "        if matches:\n",
    "            if matches[0][1] not in spectra or spectra[matches[0][1]][\"t_max\"] < int(matches[0][2]):\n",
    "                spectra[matches[0][1]] = {\"path\": matches[0][0], \"full_path\": str(path_file), \"t_max\": int(matches[0][2])}\n",
    "        else:\n",
    "            matches = re.findall(is_map_SS_regex, path_file.name)\n",
    "            if matches:\n",
    "                if matches[0][1] not in maps or maps[matches[0][1]][\"t_max\"] < int(matches[0][2]):\n",
    "                    maps[matches[0][1]] = {\"path\": matches[0][0], \"full_path\": str(path_file), \"t_max\": int(matches[0][2])}\n",
    "    return spectra, maps"
   ]
  },
  {
   "cell_type": "code",
   "execution_count": 5,
   "metadata": {},
   "outputs": [],
   "source": [
    "spectra_ss, maps_ss = get_data(path_ss)\n",
    "spectra_d, maps_d = get_data(path_download)"
   ]
  },
  {
   "cell_type": "code",
   "execution_count": 6,
   "metadata": {},
   "outputs": [
    {
     "name": "stdout",
     "output_type": "stream",
     "text": [
      "C2_Ceta 198 -> 200\n",
      "CW_2_A_nu 175 -> 180\n",
      "CW_2_A_sigma 175 -> 180\n",
      "CW_2_eta_V_eta 154 -> 171\n",
      "CW_2_V_nu 177 -> 180\n",
      "CW_eta_2_A_eta 153 -> 171\n",
      "CW_eta_A_sigma 173 -> 180\n",
      "CW_eta_nu_V_nu 152 -> 170\n",
      "CW_eta_V_sigma 173 -> 179\n",
      "CW_nu_eta_A_nu 151 -> 170\n",
      "CW_nu_sigma_V_sigma 153 -> 170\n",
      "CW_sigma_nu_A_sigma 153 -> 171\n",
      "CW_theta4_2_theta4 194 -> 196\n",
      "Fphi10 169 -> 177\n",
      "Fphi12 168 -> 177\n",
      "Fphi14 166 -> 176\n",
      "Fphi16 165 -> 175\n",
      "Fphi8 168 -> 177\n",
      "C2h6_to_CW_2_theta5_2_Eq_eta_theta5 161 -> 198\n",
      "C2_Ceta_to_C2 198 -> 200\n",
      "C2_Ceta_to_Ceta 198 -> 200\n",
      "C2_Cnu_to_CW_2_A_nu 168 -> 180\n",
      "C2_Csigma_to_CW_2_A_sigma 171 -> 180\n",
      "C2_to_CW_2_V_nu 177 -> 180\n",
      "C2_to_Q_Joker 178 -> 197\n",
      "Ceta_Cnu_to_CW_eta_A_nu 160 -> 179\n",
      "Ceta_Csigma_to_CW_eta_A_sigma 156 -> 176\n",
      "Ceta_to_CW_eta_V_sigma 173 -> 179\n",
      "Cnu_Csigma_to_CW_nu_A_sigma 162 -> 182\n",
      "Cnu_to_CW_2_V_nu 177 -> 180\n",
      "Csigma_to_CW_eta_V_sigma 173 -> 179\n",
      "CW_2_A_nu_to_C2 175 -> 180\n",
      "CW_2_A_nu_to_Cnu 175 -> 180\n",
      "CW_2_A_nu_to_Q_C2_Cnu 175 -> 180\n",
      "CW_2_A_sigma_to_C2 175 -> 180\n",
      "CW_2_A_sigma_to_Csigma 175 -> 180\n",
      "CW_2_A_sigma_to_Q_C2_Csigma 175 -> 180\n",
      "CW_2_eta_to_CW_2_eta_V_eta 153 -> 154\n",
      "CW_2_eta_V_eta_to_Joker 146 -> 154\n",
      "CW_2_V_eta_to_C2_Ceta 198 -> 200\n",
      "CW_2_V_eta_to_CW_2_eta_V_eta 147 -> 154\n",
      "CW_2_V_nu_to_C2_Cnu 177 -> 180\n",
      "CW_eta_2_A_eta_to_CW_2_A_eta 145 -> 153\n",
      "CW_eta_2_A_eta_to_CW_eta_2 147 -> 153\n",
      "CW_eta_2_A_eta_to_Q_Joker 147 -> 153\n",
      "CW_eta_A_sigma_to_Ceta 173 -> 180\n",
      "CW_eta_nu_eta_Eq_nu_nu_to_CW_nu_eta_A_nu 141 -> 153\n",
      "CW_eta_nu_to_CW_eta_nu_V_nu 146 -> 151\n",
      "CW_eta_nu_V_nu_to_CW_eta_nu_eta_Eq_nu_nu 116 -> 129\n",
      "CW_eta_V_nu_to_CW_eta_nu_V_nu 142 -> 151\n",
      "CW_nu_eta_A_nu_to_CW_eta_A_nu 141 -> 151\n",
      "CW_nu_eta_A_nu_to_CW_nu_eta 143 -> 151\n",
      "CW_nu_eta_A_nu_to_Q_CW_eta_nu_eta_Eq_nu_nu 144 -> 151\n",
      "CW_nu_sigma_nu_Eq_sigma_sigma_to_CW_nu_A_sigma 184 -> 188\n",
      "CW_nu_sigma_nu_Eq_sigma_sigma_to_CW_sigma_nu_A_sigma 143 -> 157\n",
      "CW_nu_sigma_to_CW_nu_sigma_V_sigma 148 -> 156\n",
      "CW_nu_sigma_V_sigma_to_CW_nu_sigma_nu_Eq_sigma_sigma 143 -> 156\n",
      "CW_nu_V_sigma_to_CW_nu_sigma_V_sigma 145 -> 156\n",
      "CW_sigma_nu_A_sigma_to_CW_nu_A_sigma 142 -> 153\n",
      "CW_sigma_nu_A_sigma_to_CW_sigma_nu 145 -> 153\n",
      "CW_sigma_nu_A_sigma_to_Q_CW_nu_sigma_nu_Eq_sigma_sigma 144 -> 153\n",
      "CW_theta4_2_theta4_to_C2h5 194 -> 196\n",
      "DC2h5_to_CW_theta4_2_theta4 194 -> 196\n",
      "Fphi10_to_Fphi12 168 -> 175\n",
      "Fphi10_to_RP1_10 169 -> 177\n",
      "Fphi12_to_Fphi14 166 -> 174\n",
      "Fphi12_to_RP1_12 168 -> 175\n",
      "Fphi14_to_Fphi16 165 -> 172\n",
      "Fphi8_to_Fphi10 168 -> 177\n",
      "Fphi8_to_RP1_8 168 -> 177\n",
      "Joker_to_CW_eta_2_A_eta 151 -> 154\n"
     ]
    }
   ],
   "source": [
    "with open(path_ss / \"ss.json\") as fp:\n",
    "    content = fp.read()\n",
    "for name_d in spectra_d:\n",
    "    if name_d in spectra_ss and spectra_d[name_d][\"t_max\"] > spectra_ss[name_d][\"t_max\"]:\n",
    "        t_max_d, t_max_ss = spectra_d[name_d][\"t_max\"], spectra_ss[name_d][\"t_max\"]\n",
    "        print(name_d, t_max_ss, \"->\", t_max_d)\n",
    "        content = re.sub(f\"{spectra_ss[name_d]['path']}\", f\"{spectra_d[name_d]['path']}\", content)\n",
    "for name_d in maps_d:\n",
    "    if name_d in maps_ss and maps_d[name_d][\"t_max\"] > maps_ss[name_d][\"t_max\"]:\n",
    "        t_max_d, t_max_ss = maps_d[name_d][\"t_max\"], maps_ss[name_d][\"t_max\"]\n",
    "        print(name_d, t_max_ss, \"->\", t_max_d)\n",
    "        content = re.sub(f\"{maps_ss[name_d]['path']}(.*)\\\"t_max\\\": {t_max_ss}\", f\"{maps_d[name_d]['path']}\\\\1\\\"t_max\\\": {t_max_d}\",  content)\n",
    "for name_d in spectra_d:\n",
    "    if name_d in spectra_ss and spectra_d[name_d][\"t_max\"] > spectra_ss[name_d][\"t_max\"]:\n",
    "        t_max_d, t_max_ss = spectra_d[name_d][\"t_max\"], spectra_ss[name_d][\"t_max\"]\n",
    "        Path(spectra_ss[name_d]['full_path']).unlink()\n",
    "        shutil.move(spectra_d[name_d]['full_path'], path_ss / spectra_d[name_d]['path'])\n",
    "for name_d in maps_d:\n",
    "    if name_d in maps_ss and maps_d[name_d][\"t_max\"] > maps_ss[name_d][\"t_max\"]:\n",
    "        t_max_d, t_max_ss = maps_d[name_d][\"t_max\"], maps_ss[name_d][\"t_max\"]\n",
    "        Path(maps_ss[name_d]['full_path']).unlink()\n",
    "        shutil.move(maps_d[name_d]['full_path'], path_ss / maps_d[name_d]['path'])\n",
    "with open(path_ss / \"ss.json\", \"w\") as fp:\n",
    "    fp.write(content)"
   ]
  },
  {
   "cell_type": "code",
   "execution_count": 7,
   "metadata": {},
   "outputs": [
    {
     "data": {
      "text/plain": [
       "1"
      ]
     },
     "execution_count": 7,
     "metadata": {},
     "output_type": "execute_result"
    }
   ],
   "source": [
    "1"
   ]
  },
  {
   "cell_type": "code",
   "execution_count": null,
   "metadata": {},
   "outputs": [],
   "source": []
  }
 ],
 "metadata": {
  "kernelspec": {
   "display_name": "Python 3",
   "language": "python",
   "name": "python3"
  },
  "language_info": {
   "codemirror_mode": {
    "name": "ipython",
    "version": 3
   },
   "file_extension": ".py",
   "mimetype": "text/x-python",
   "name": "python",
   "nbconvert_exporter": "python",
   "pygments_lexer": "ipython3",
   "version": "3.11.0"
  },
  "orig_nbformat": 4
 },
 "nbformat": 4,
 "nbformat_minor": 2
}

{
 "cells": [
  {
   "cell_type": "code",
   "execution_count": 28,
   "metadata": {},
   "outputs": [],
   "source": [
    "from plotlib import load_ring, load_mod, export_pi_ring, export_pi_mod\n",
    "# from plotlib import *"
   ]
  },
  {
   "cell_type": "code",
   "execution_count": 29,
   "metadata": {},
   "outputs": [],
   "source": [
    "# path_ring = R'C:\\Users\\lwnpk\\Documents\\Projects\\algtop_cpp_build\\bin\\Release\\S0_AdamsSS_t259.db'\n",
    "# path_mod = R'C:\\Users\\lwnpk\\Documents\\Projects\\algtop_cpp_build\\bin\\Release\\Cnu_AdamsSS_t246.db'"
   ]
  },
  {
   "cell_type": "code",
   "execution_count": 30,
   "metadata": {},
   "outputs": [],
   "source": [
    "path_ring = R'C:\\Users\\lwnpk\\Documents\\Projects\\algtop_cpp_build\\bin\\Release\\debug\\S0_AdamsSS_t100.db'\n",
    "path_mod = R'C:\\Users\\lwnpk\\Documents\\Projects\\algtop_cpp_build\\bin\\Release\\debug\\Csigma_AdamsSS_t100.db'"
   ]
  },
  {
   "cell_type": "code",
   "execution_count": 31,
   "metadata": {},
   "outputs": [],
   "source": [
    "# path_ring = R'C:\\Users\\lwnpk\\Documents\\Projects\\algtop_cpp_build\\bin\\Release\\benchmark\\S0_AdamsSS_t100.db'\n",
    "# path_mod = R'C:\\Users\\lwnpk\\Documents\\Projects\\algtop_cpp_build\\bin\\Release\\benchmark\\C2_AdamsSS_t100.db'"
   ]
  },
  {
   "cell_type": "code",
   "execution_count": 37,
   "metadata": {},
   "outputs": [],
   "source": [
    "data = load_ring(path_ring)\n",
    "export_pi_ring(data)"
   ]
  },
  {
   "cell_type": "code",
   "execution_count": 33,
   "metadata": {},
   "outputs": [],
   "source": [
    "data_ring, data_mod = load_mod(path_ring,path_mod)\n",
    "export_pi_mod(data_ring, data_mod)"
   ]
  },
  {
   "cell_type": "code",
   "execution_count": 34,
   "metadata": {},
   "outputs": [],
   "source": [
    "# radius = get_radius(data_ring)\n",
    "# radius1 = get_radius(data_mod)\n",
    "# tpl_bullets, index2xyrp = export_bullets([data_ring, data_mod], [radius, radius1])\n",
    "# lines, dashed_lines = export_basis_prod(data_ring, index2xyrp, 0)\n",
    "# lines1, dashed_lines1 = export_basis_prod(data_mod, index2xyrp, len(data_ring[\"basis\"]))"
   ]
  },
  {
   "cell_type": "code",
   "execution_count": 35,
   "metadata": {},
   "outputs": [],
   "source": [
    "# lines = [[], [], []]\n",
    "# b2g = {1: 0, 3: 1, 7: 2}  # basis_id to gen_id\n",
    "# for id_gen, id1, prod, O in data_ring[\"products\"]:\n",
    "#     if id_gen not in b2g:\n",
    "#         continue\n",
    "#     gen = b2g[id_gen]\n",
    "#     # for id2 in prod:\n",
    "#     #     lines[gen].append((id1, id2))\n",
    "#     if(gen == 1 and id1==76):\n",
    "#         print(id_gen, id1, prod, O)"
   ]
  },
  {
   "cell_type": "code",
   "execution_count": 36,
   "metadata": {},
   "outputs": [],
   "source": [
    "# data_ring[\"products\"]\n",
    "# lines[1]"
   ]
  },
  {
   "cell_type": "code",
   "execution_count": null,
   "metadata": {},
   "outputs": [],
   "source": []
  }
 ],
 "metadata": {
  "kernelspec": {
   "display_name": "Python 3.11.0 64-bit",
   "language": "python",
   "name": "python3"
  },
  "language_info": {
   "codemirror_mode": {
    "name": "ipython",
    "version": 3
   },
   "file_extension": ".py",
   "mimetype": "text/x-python",
   "name": "python",
   "nbconvert_exporter": "python",
   "pygments_lexer": "ipython3",
   "version": "3.11.0"
  },
  "orig_nbformat": 4,
  "vscode": {
   "interpreter": {
    "hash": "5238573367df39f7286bb46f9ff5f08f63a01a80960060ce41e3c79b190280fa"
   }
  }
 },
 "nbformat": 4,
 "nbformat_minor": 2
}

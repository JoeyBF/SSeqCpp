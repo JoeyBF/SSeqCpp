{
 "cells": [
  {
   "attachments": {},
   "cell_type": "markdown",
   "metadata": {},
   "source": [
    "## Set generator names in SS and homotopy"
   ]
  },
  {
   "cell_type": "code",
   "execution_count": 1,
   "metadata": {},
   "outputs": [],
   "source": [
    "import gen_names\n",
    "import json\n",
    "with open(R\"C:\\Users\\lwnpk\\Documents\\Projects\\algtop_cpp_build\\bin\\Release\\ss.json\") as fp:\n",
    "    config = json.load(fp)\n",
    "paths = [d[\"path\"] for d in config[\"databases\"][\"debug\"]]\n",
    "gen_names.set_E2_name(paths)\n",
    "gen_names.set_pi_name(paths[0])"
   ]
  },
  {
   "attachments": {},
   "cell_type": "markdown",
   "metadata": {},
   "source": [
    "# Reset"
   ]
  },
  {
   "cell_type": "code",
   "execution_count": 1,
   "metadata": {},
   "outputs": [],
   "source": [
    "import gen_names\n",
    "import json\n",
    "with open(R\"C:\\Users\\lwnpk\\Documents\\Projects\\algtop_cpp_build\\bin\\Release\\ss.json\") as fp:\n",
    "    config = json.load(fp)\n",
    "paths = [d[\"path\"] for d in config[\"databases\"][\"debug\"]]\n",
    "gen_names.reset_pi_name(paths[0])"
   ]
  }
 ],
 "metadata": {
  "kernelspec": {
   "display_name": "Python 3.11.0 64-bit",
   "language": "python",
   "name": "python3"
  },
  "language_info": {
   "codemirror_mode": {
    "name": "ipython",
    "version": 3
   },
   "file_extension": ".py",
   "mimetype": "text/x-python",
   "name": "python",
   "nbconvert_exporter": "python",
   "pygments_lexer": "ipython3",
   "version": "3.11.0"
  },
  "orig_nbformat": 4,
  "vscode": {
   "interpreter": {
    "hash": "5238573367df39f7286bb46f9ff5f08f63a01a80960060ce41e3c79b190280fa"
   }
  }
 },
 "nbformat": 4,
 "nbformat_minor": 2
}

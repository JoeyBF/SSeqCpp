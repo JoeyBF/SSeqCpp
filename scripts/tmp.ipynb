{
 "cells": [
  {
   "cell_type": "markdown",
   "metadata": {},
   "source": [
    "## module"
   ]
  },
  {
   "cell_type": "code",
   "execution_count": 23,
   "metadata": {},
   "outputs": [
    {
     "name": "stdout",
     "output_type": "stream",
     "text": [
      "\"\\n{\\n \\\"./Adams res ${mod} ${t}\\\": {\\n \\\"cmd\\\": \\\"nohup ./Adams res ${mod} ${t} >> ${mod}.out 2>&1 &\\\"\\n },\\n \\\"./Adams prod_mod ${mod} S0 ${t}\\\": {\\n \\\"priority\\\": 100,\\n \\\"cmd\\\": \\\"nohup ./Adams prod_mod ${mod} S0 ${t} >> ${mod}_prod.out 2>&1 &\\\",\\n \\\"pre\\\": [\\n \\\"./Adams res S0 ${t}\\\",\\n \\\"./Adams res ${mod} ${t}\\\"\\n ]\\n },\\n \\\"./Adams export_mod ${mod} S0 ${t}\\\": {\\n \\\"priority\\\": 100,\\n \\\"cmd\\\": \\\"nohup ./Adams export_mod ${mod} S0 ${t} >> export.out 2>&1 &\\\",\\n \\\"pre\\\": [\\n \\\"./Adams export S0 ${t}\\\",\\n \\\"./Adams prod_mod ${mod} S0 ${t}\\\"\\n ]\\n },\\n \\\"cp ${mod}_AdamsSS.db AdamsSS/ @${t}\\\": {\\n \\\"cmd\\\": \\\"cp ${mod}_AdamsSS.db AdamsSS/\\\",\\n \\\"pre\\\": [\\n \\\"mkdir AdamsSS\\\",\\n \\\"./Adams export_mod ${mod} S0 ${t}\\\"\\n ]\\n }\\n}\\n\"\n"
     ]
    }
   ],
   "source": [
    "import json\n",
    "tpl = \"\"\"\n",
    "{\n",
    "    \"./Adams res {mod} {t}\": {\n",
    "        \"cmd\": \"nohup ./Adams res {mod} {t} >> {mod}.out 2>&1 &\"\n",
    "    },\n",
    "    \"./Adams prod_mod {mod} S0 {t}\": {\n",
    "        \"priority\": 100,\n",
    "        \"cmd\": \"nohup ./Adams prod_mod {mod} S0 {t} >> {mod}_prod.out 2>&1 &\",\n",
    "        \"pre\": [\n",
    "            \"./Adams res S0 {t}\",\n",
    "            \"./Adams res {mod} {t}\"\n",
    "    ]\n",
    "    },\n",
    "    \"./Adams export_mod {mod} S0 {t}\": {\n",
    "        \"priority\": 100,\n",
    "        \"cmd\": \"nohup ./Adams export_mod {mod} S0 {t} >> export.out 2>&1 &\",\n",
    "        \"pre\": [\n",
    "            \"./Adams export S0 {t}\",\n",
    "            \"./Adams prod_mod {mod} S0 {t}\"\n",
    "        ]\n",
    "    },\n",
    "    \"cp {mod}_AdamsSS.db AdamsSS/ @{t}\": {\n",
    "        \"cmd\": \"cp {mod}_AdamsSS.db AdamsSS/\",\n",
    "        \"pre\": [\n",
    "            \"mkdir AdamsSS\",\n",
    "            \"./Adams export_mod {mod} S0 {t}\"\n",
    "        ]\n",
    "    }\n",
    "}\n",
    "\"\"\"\n",
    "for i in range(10):\n",
    "    tpl = tpl.replace(\"  \", \" \")\n",
    "json.loads(tpl)\n",
    "print(json.dumps(tpl))"
   ]
  },
  {
   "cell_type": "markdown",
   "metadata": {},
   "source": [
    "## module__S0"
   ]
  },
  {
   "cell_type": "code",
   "execution_count": 28,
   "metadata": {},
   "outputs": [
    {
     "name": "stdout",
     "output_type": "stream",
     "text": [
      "\"\\n{\\n \\\"priority\\\": 100,\\n \\\"./Adams map_coh ${mod} S0\\\": {\\n \\\"cmd\\\": \\\"./Adams map_coh ${mod} S0\\\"\\n },\\n \\\"./Adams map_res ${mod} S0 ${t}\\\": {\\n \\\"cmd\\\": \\\"nohup ./Adams map_res ${mod} S0 ${t} >> map_${mod}__S0.out 2>&1 &\\\",\\n \\\"pre\\\": [\\n \\\"./Adams map_coh ${mod} S0\\\", \\n \\\"./Adams res ${mod} ${t}\\\",\\n \\\"./Adams res S0 ${t}\\\"\\n ]\\n },\\n \\\"./Adams export_map ${mod} S0 ${t}\\\": {\\n \\\"cmd\\\": \\\"nohup ./Adams export_map ${mod} S0 ${t} >> export.out 2>&1 &\\\",\\n \\\"pre\\\": [\\n \\\"./Adams export_mod ${mod} S0 ${t}\\\",\\n \\\"./Adams export S0 ${t}\\\",\\n \\\"./Adams map_res ${mod} S0 ${t}\\\"\\n ]\\n },\\n \\\"cp map_AdamsSS_${mod}__S0.db AdamsSS/ @${t}\\\": {\\n \\\"cmd\\\": \\\"cp map_AdamsSS_${mod}__S0.db AdamsSS/\\\",\\n \\\"pre\\\": [\\n \\\"mkdir AdamsSS\\\", \\n \\\"./Adams export_map ${mod} S0 ${t}\\\"\\n ]\\n }\\n}\\n\"\n"
     ]
    }
   ],
   "source": [
    "import json\n",
    "tpl = \"\"\"\n",
    "{\n",
    "    \"priority\": 100,\n",
    "    \"./Adams map_coh {mod} S0\": {\n",
    "        \"cmd\": \"./Adams map_coh {mod} S0\"\n",
    "    },\n",
    "    \"./Adams map_res {mod} S0 {t}\": {\n",
    "        \"cmd\": \"nohup ./Adams map_res {mod} S0 {t} >> map_{mod}__S0.out 2>&1 &\",\n",
    "        \"pre\": [\n",
    "            \"./Adams map_coh {mod} S0\", \n",
    "            \"./Adams res {mod} {t}\",\n",
    "            \"./Adams res S0 {t}\"\n",
    "        ]\n",
    "    },\n",
    "    \"./Adams export_map {mod} S0 {t}\": {\n",
    "        \"cmd\": \"nohup ./Adams export_map {mod} S0 {t} >> export.out 2>&1 &\",\n",
    "        \"pre\": [\n",
    "            \"./Adams export_mod {mod} S0 {t}\",\n",
    "            \"./Adams export S0 {t}\",\n",
    "            \"./Adams map_res {mod} S0 {t}\"\n",
    "        ]\n",
    "    },\n",
    "    \"cp map_AdamsSS_{mod}__S0.db AdamsSS/ @{t}\": {\n",
    "        \"cmd\": \"cp map_AdamsSS_{mod}__S0.db AdamsSS/\",\n",
    "        \"pre\": [\n",
    "            \"mkdir AdamsSS\", \n",
    "            \"./Adams export_map {mod} S0 {t}\"\n",
    "        ]\n",
    "    }\n",
    "}\n",
    "\"\"\"\n",
    "for i in range(10):\n",
    "    tpl = tpl.replace(\"  \", \" \")\n",
    "json.loads(tpl)\n",
    "print(json.dumps(tpl))"
   ]
  },
  {
   "cell_type": "markdown",
   "metadata": {},
   "source": [
    "## module__module"
   ]
  },
  {
   "cell_type": "code",
   "execution_count": 26,
   "metadata": {},
   "outputs": [
    {
     "name": "stdout",
     "output_type": "stream",
     "text": [
      "\"\\n{\\n \\\"priority\\\": 100,\\n \\\"./Adams map_coh ${mod1} ${mod2}\\\": {\\n \\\"cmd\\\": \\\"./Adams map_coh ${mod1} ${mod2}\\\"\\n },\\n \\\"./Adams map_res ${mod1} ${mod2} ${t}\\\": {\\n \\\"cmd\\\": \\\"nohup ./Adams map_res ${mod1} ${mod2} ${t} >> map_${mod1}__${mod2}.out 2>&1 &\\\",\\n \\\"pre\\\": [\\n \\\"./Adams map_coh ${mod1} ${mod2}\\\",\\n \\\"./Adams res ${mod1} ${t}\\\",\\n \\\"./Adams res ${mod2} ${t}\\\"\\n ]\\n },\\n \\\"./Adams export_map ${mod1} ${mod2} ${t}\\\": {\\n \\\"cmd\\\": \\\"nohup ./Adams export_map ${mod1} ${mod2} ${t} >> export.out 2>&1 &\\\",\\n \\\"pre\\\": [\\n \\\"./Adams export_mod ${mod1} S0 ${t}\\\",\\n \\\"./Adams export_mod ${mod2} S0 ${t}\\\",\\n \\\"./Adams map_res ${mod1} ${mod2} ${t}\\\"\\n ]\\n },\\n \\\"cp map_AdamsSS_${mod1}__${mod2}.db AdamsSS/\\\": {\\n \\\"cmd\\\": \\\"cp map_AdamsSS_${mod1}__${mod2}.db AdamsSS/\\\",\\n \\\"pre\\\": [\\n \\\"mkdir AdamsSS\\\", \\n \\\"./Adams export_map ${mod1} ${mod2} ${t}\\\"\\n ]\\n }\\n}\\n\"\n"
     ]
    }
   ],
   "source": [
    "import json\n",
    "tpl = \"\"\"\n",
    "{\n",
    "    \"priority\": 100,\n",
    "    \"./Adams map_coh {mod1} {mod2}\": {\n",
    "        \"cmd\": \"./Adams map_coh {mod1} {mod2}\"\n",
    "    },\n",
    "    \"./Adams map_res {mod1} {mod2} {t}\": {\n",
    "        \"cmd\": \"nohup ./Adams map_res {mod1} {mod2} {t} >> map_{mod1}__{mod2}.out 2>&1 &\",\n",
    "        \"pre\": [\n",
    "            \"./Adams map_coh {mod1} {mod2}\",\n",
    "            \"./Adams res {mod1} {t}\",\n",
    "            \"./Adams res {mod2} {t}\"\n",
    "        ]\n",
    "    },\n",
    "    \"./Adams export_map {mod1} {mod2} {t}\": {\n",
    "        \"cmd\": \"nohup ./Adams export_map {mod1} {mod2} {t} >> export.out 2>&1 &\",\n",
    "        \"pre\": [\n",
    "            \"./Adams export_mod {mod1} S0 {t}\",\n",
    "            \"./Adams export_mod {mod2} S0 {t}\",\n",
    "            \"./Adams map_res {mod1} {mod2} {t}\"\n",
    "        ]\n",
    "    },\n",
    "    \"cp map_AdamsSS_{mod1}__{mod2}.db AdamsSS/ @{t}\": {\n",
    "        \"cmd\": \"cp map_AdamsSS_{mod1}__{mod2}.db AdamsSS/\",\n",
    "        \"pre\": [\n",
    "            \"mkdir AdamsSS\", \n",
    "            \"./Adams export_map {mod1} {mod2} {t}\"\n",
    "        ]\n",
    "    }\n",
    "}\n",
    "\"\"\"\n",
    "for i in range(10):\n",
    "    tpl = tpl.replace(\"  \", \" \")\n",
    "json.loads(tpl)\n",
    "print(json.dumps(tpl))"
   ]
  },
  {
   "cell_type": "markdown",
   "metadata": {},
   "source": [
    "## module__module_S0"
   ]
  },
  {
   "cell_type": "code",
   "execution_count": 34,
   "metadata": {},
   "outputs": [
    {
     "name": "stdout",
     "output_type": "stream",
     "text": [
      "\"\\n{\\n \\\"priority\\\": 100,\\n \\\"./Adams map_coh ${mod1} ${mod2}\\\": {\\n \\\"cmd\\\": \\\"./Adams map_coh ${mod1} ${mod2}\\\"\\n },\\n \\\"./Adams map_res ${mod1} ${mod2} ${t}\\\": {\\n \\\"cmd\\\": \\\"nohup ./Adams map_res ${mod1} ${mod2} ${t} >> map_${mod1}__${mod2}.out 2>&1 &\\\",\\n \\\"pre\\\": [\\n \\\"./Adams map_coh ${mod1} ${mod2}\\\",\\n \\\"./Adams res ${mod1} ${t}\\\",\\n \\\"./Adams res S0 ${t}\\\"\\n ]\\n },\\n \\\"./Adams export_map ${mod1} ${mod2} ${t}\\\": {\\n \\\"cmd\\\": \\\"nohup ./Adams export_map ${mod1} ${mod2} ${t} >> export.out 2>&1 &\\\",\\n \\\"pre\\\": [\\n \\\"./Adams export_mod ${mod1} S0 ${t}\\\",\\n \\\"./Adams export S0 ${t}\\\",\\n \\\"./Adams map_res ${mod1} ${mod2} ${t}\\\"\\n ]\\n },\\n \\\"cp map_AdamsSS_${mod1}__${mod2}.db AdamsSS/ @${t}\\\": {\\n \\\"cmd\\\": \\\"cp map_AdamsSS_${mod1}__${mod2}.db AdamsSS/\\\",\\n \\\"pre\\\": [\\n \\\"mkdir AdamsSS\\\", \\n \\\"./Adams export_map ${mod1} ${mod2} ${t}\\\"\\n ]\\n }\\n}\\n\"\n"
     ]
    }
   ],
   "source": [
    "import json\n",
    "tpl = \"\"\"\n",
    "{\n",
    "    \"priority\": 100,\n",
    "    \"./Adams map_coh {mod1} {mod2}\": {\n",
    "        \"cmd\": \"./Adams map_coh {mod1} {mod2}\"\n",
    "    },\n",
    "    \"./Adams map_res {mod1} {mod2} {t}\": {\n",
    "        \"cmd\": \"nohup ./Adams map_res {mod1} {mod2} {t} >> map_{mod1}__{mod2}.out 2>&1 &\",\n",
    "        \"pre\": [\n",
    "            \"./Adams map_coh {mod1} {mod2}\",\n",
    "            \"./Adams res {mod1} {t}\",\n",
    "            \"./Adams res S0 {t}\"\n",
    "        ]\n",
    "    },\n",
    "    \"./Adams export_map {mod1} {mod2} {t}\": {\n",
    "        \"cmd\": \"nohup ./Adams export_map {mod1} {mod2} {t} >> export.out 2>&1 &\",\n",
    "        \"pre\": [\n",
    "            \"./Adams export_mod {mod1} S0 {t}\",\n",
    "            \"./Adams export S0 {t}\",\n",
    "            \"./Adams map_res {mod1} {mod2} {t}\"\n",
    "        ]\n",
    "    },\n",
    "    \"cp map_AdamsSS_{mod1}__{mod2}.db AdamsSS/ @{t}\": {\n",
    "        \"cmd\": \"cp map_AdamsSS_{mod1}__{mod2}.db AdamsSS/\",\n",
    "        \"pre\": [\n",
    "            \"mkdir AdamsSS\", \n",
    "            \"./Adams export_map {mod1} {mod2} {t}\"\n",
    "        ]\n",
    "    }\n",
    "}\n",
    "\"\"\"\n",
    "for i in range(10):\n",
    "    tpl = tpl.replace(\"  \", \" \")\n",
    "json.loads(tpl)\n",
    "print(json.dumps(tpl))"
   ]
  },
  {
   "cell_type": "markdown",
   "metadata": {},
   "source": [
    "## module__module2"
   ]
  },
  {
   "cell_type": "code",
   "execution_count": 32,
   "metadata": {},
   "outputs": [
    {
     "name": "stdout",
     "output_type": "stream",
     "text": [
      "\"\\n{\\n \\\"priority\\\": 100,\\n \\\"./Adams map_coh ${mod1} ${mod2}\\\": {\\n \\\"cmd\\\": \\\"./Adams map_coh ${mod1} ${mod2}\\\"\\n },\\n \\\"./Adams map_res ${mod1} ${mod2} ${t}\\\": {\\n \\\"cmd\\\": \\\"nohup ./Adams map_res ${mod1} ${mod2} ${t} >> map_${mod1}__${mod2}.out 2>&1 &\\\",\\n \\\"pre\\\": [\\n \\\"./Adams map_coh ${mod1} ${mod2}\\\",\\n \\\"./Adams res ${mod1} ${t}\\\",\\n \\\"./Adams res ${to} ${t}\\\"\\n ]\\n },\\n \\\"./Adams export_map ${mod1} ${mod2} ${t}\\\": {\\n \\\"cmd\\\": \\\"nohup ./Adams export_map ${mod1} ${mod2} ${t} >> export.out 2>&1 &\\\",\\n \\\"pre\\\": [\\n \\\"./Adams export_mod ${mod1} S0 ${t}\\\",\\n \\\"./Adams export_mod ${to} S0 ${t}\\\",\\n \\\"./Adams map_res ${mod1} ${mod2} ${t}\\\"\\n ]\\n },\\n \\\"cp map_AdamsSS_${mod1}__${mod2}.db AdamsSS/ @${t}\\\": {\\n \\\"cmd\\\": \\\"cp map_AdamsSS_${mod1}__${mod2}.db AdamsSS/\\\",\\n \\\"pre\\\": [\\n \\\"mkdir AdamsSS\\\", \\n \\\"./Adams export_map ${mod1} ${mod2} ${t}\\\"\\n ]\\n }\\n}\\n\"\n"
     ]
    }
   ],
   "source": [
    "import json\n",
    "tpl = \"\"\"\n",
    "{\n",
    "    \"priority\": 100,\n",
    "    \"./Adams map_coh {mod1} {mod2}\": {\n",
    "        \"cmd\": \"./Adams map_coh {mod1} {mod2}\"\n",
    "    },\n",
    "    \"./Adams map_res {mod1} {mod2} {t}\": {\n",
    "        \"cmd\": \"nohup ./Adams map_res {mod1} {mod2} {t} >> map_{mod1}__{mod2}.out 2>&1 &\",\n",
    "        \"pre\": [\n",
    "            \"./Adams map_coh {mod1} {mod2}\",\n",
    "            \"./Adams res {mod1} {t}\",\n",
    "            \"./Adams res {to} {t}\"\n",
    "        ]\n",
    "    },\n",
    "    \"./Adams export_map {mod1} {mod2} {t}\": {\n",
    "        \"cmd\": \"nohup ./Adams export_map {mod1} {mod2} {t} >> export.out 2>&1 &\",\n",
    "        \"pre\": [\n",
    "            \"./Adams export_mod {mod1} S0 {t}\",\n",
    "            \"./Adams export_mod {to} S0 {t}\",\n",
    "            \"./Adams map_res {mod1} {mod2} {t}\"\n",
    "        ]\n",
    "    },\n",
    "    \"cp map_AdamsSS_{mod1}__{mod2}.db AdamsSS/ @{t}\": {\n",
    "        \"cmd\": \"cp map_AdamsSS_{mod1}__{mod2}.db AdamsSS/\",\n",
    "        \"pre\": [\n",
    "            \"mkdir AdamsSS\", \n",
    "            \"./Adams export_map {mod1} {mod2} {t}\"\n",
    "        ]\n",
    "    }\n",
    "}\n",
    "\"\"\"\n",
    "for i in range(10):\n",
    "    tpl = tpl.replace(\"  \", \" \")\n",
    "json.loads(tpl)\n",
    "print(json.dumps(tpl))"
   ]
  },
  {
   "cell_type": "code",
   "execution_count": null,
   "metadata": {},
   "outputs": [],
   "source": [
    "{\n",
    "    \"priority\": 99,\n",
    "    \"./Adams map_coh C2 C2h4\": {\"cmd\": \"./Adams map_coh C2 C2h4\"},\n",
    "    \"./Adams map_res C2 C2h4 160\": {\n",
    "        \"cmd\": \"nohup ./Adams map_res C2 C2h4 160 >> map_C2__C2h4.out 2>&1 &\",\n",
    "        \"pre\": [\n",
    "            \"./Adams map_coh C2 C2h4\",\n",
    "            \"./Adams res C2h4 160\",\n",
    "            \"./Adams res C2 160\",\n",
    "        ],\n",
    "    },\n",
    "    \"./Adams export_map C2 C2h4 160\": {\n",
    "        \"cmd\": \"nohup ./Adams export_map C2 C2h4 160 >> export.out 2>&1 &\",\n",
    "        \"pre\": [\n",
    "            \"./Adams export_mod C2 S0 160\",\n",
    "            \"./Adams export_mod C2h4 S0 160\",\n",
    "            \"./Adams map_res C2 C2h4 160\",\n",
    "        ],\n",
    "    },\n",
    "    \"cp map_AdamsSS_C2__C2h4.db AdamsSS/\": {\n",
    "        \"cmd\": \"cp map_AdamsSS_C2__C2h4.db AdamsSS/\",\n",
    "        \"pre\": [\n",
    "            \"mkdir AdamsSS\", \n",
    "            \"./Adams export_map C2 C2h4 160\"\n",
    "        ],\n",
    "    },\n",
    "},"
   ]
  }
 ],
 "metadata": {
  "kernelspec": {
   "display_name": "Python 3",
   "language": "python",
   "name": "python3"
  },
  "language_info": {
   "codemirror_mode": {
    "name": "ipython",
    "version": 3
   },
   "file_extension": ".py",
   "mimetype": "text/x-python",
   "name": "python",
   "nbconvert_exporter": "python",
   "pygments_lexer": "ipython3",
   "version": "3.11.0"
  }
 },
 "nbformat": 4,
 "nbformat_minor": 2
}

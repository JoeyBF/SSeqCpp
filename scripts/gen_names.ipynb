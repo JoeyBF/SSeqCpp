{
 "cells": [
  {
   "cell_type": "code",
   "execution_count": 34,
   "metadata": {},
   "outputs": [],
   "source": [
    "import sqlite3\n",
    "import json\n",
    "from collections import defaultdict"
   ]
  },
  {
   "cell_type": "code",
   "execution_count": 35,
   "metadata": {},
   "outputs": [],
   "source": [
    "path_S0 = R'C:\\Users\\lwnpk\\Documents\\Projects\\algtop_cpp_build\\bin\\Release\\debug\\S0_AdamsSS_t100.db'"
   ]
  },
  {
   "cell_type": "code",
   "execution_count": 36,
   "metadata": {},
   "outputs": [],
   "source": [
    "conn_S0 = sqlite3.connect(path_S0)\n",
    "c_S0 = conn_S0.cursor()"
   ]
  },
  {
   "cell_type": "code",
   "execution_count": 37,
   "metadata": {},
   "outputs": [],
   "source": [
    "with open(\"pi_gen_names.json\") as fp:\n",
    "    pi_gen_names = json.load(fp)\n",
    "pi_gen_names = {(int((s := k.split(','))[0]), int(s[1])): v for k, v in pi_gen_names.items()}"
   ]
  },
  {
   "cell_type": "code",
   "execution_count": 38,
   "metadata": {},
   "outputs": [],
   "source": [
    "sql = f\"select id, s, t from S0_pi_generators\"\n",
    "name_i = defaultdict(int)\n",
    "id_to_name = {}\n",
    "for id, s, t in c_S0.execute(sql):\n",
    "    if (t - s, s) in pi_gen_names:\n",
    "        id_to_name[id] = pi_gen_names[(t - s, s)]\n",
    "    else:\n",
    "        if (name_i[t-s] > 0):\n",
    "            id_to_name[id] = f\"\\\\rho_{{{t-s}, {name_i[t-s]}}}\"\n",
    "        else:\n",
    "            id_to_name[id] = f\"\\\\rho_{{{t-s}}}\"\n",
    "    name_i[t-s] += 1"
   ]
  },
  {
   "cell_type": "code",
   "execution_count": 39,
   "metadata": {},
   "outputs": [
    {
     "data": {
      "text/plain": [
       "<sqlite3.Cursor at 0x20a7c11eec0>"
      ]
     },
     "execution_count": 39,
     "metadata": {},
     "output_type": "execute_result"
    }
   ],
   "source": [
    "sql = f\"Update S0_pi_generators SET name=?2 where id=?1\"\n",
    "c_S0.executemany(sql, id_to_name.items())"
   ]
  },
  {
   "cell_type": "code",
   "execution_count": 40,
   "metadata": {},
   "outputs": [],
   "source": [
    "c_S0.close()\n",
    "conn_S0.commit()"
   ]
  },
  {
   "cell_type": "code",
   "execution_count": null,
   "metadata": {},
   "outputs": [],
   "source": []
  }
 ],
 "metadata": {
  "kernelspec": {
   "display_name": "Python 3.11.0 64-bit",
   "language": "python",
   "name": "python3"
  },
  "language_info": {
   "codemirror_mode": {
    "name": "ipython",
    "version": 3
   },
   "file_extension": ".py",
   "mimetype": "text/x-python",
   "name": "python",
   "nbconvert_exporter": "python",
   "pygments_lexer": "ipython3",
   "version": "3.11.0"
  },
  "orig_nbformat": 4,
  "vscode": {
   "interpreter": {
    "hash": "5238573367df39f7286bb46f9ff5f08f63a01a80960060ce41e3c79b190280fa"
   }
  }
 },
 "nbformat": 4,
 "nbformat_minor": 2
}

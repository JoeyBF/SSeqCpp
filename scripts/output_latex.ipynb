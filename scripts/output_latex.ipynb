{
 "cells": [
  {
   "cell_type": "code",
   "execution_count": 1,
   "metadata": {},
   "outputs": [],
   "source": [
    "import output_latex as latex\n",
    "path_ring = R'C:\\Users\\lwnpk\\Documents\\Projects\\algtop_cpp_build\\bin\\Release\\main\\S0_AdamsSS_t261.db'\n",
    "result = latex.str_gen_names_from_db(path_ring)\n",
    "with open(R\"C:\\Users\\lwnpk\\OneDrive\\Documents\\Math\\TeX\\MyWorks\\Big Charts\\S0_AdamsE2\\table_generators.txt\", \"w\") as fp:\n",
    "    fp.write(result)"
   ]
  },
  {
   "cell_type": "code",
   "execution_count": 2,
   "metadata": {},
   "outputs": [],
   "source": [
    "import output_latex as latex\n",
    "path_ring = R'C:\\Users\\lwnpk\\Documents\\Projects\\algtop_cpp_build\\bin\\Release\\main\\S0_AdamsSS_t261.db'\n",
    "result = latex.str_basis_from_db(path_ring)\n",
    "with open(R\"C:\\Users\\lwnpk\\OneDrive\\Documents\\Math\\TeX\\MyWorks\\Big Charts\\S0_AdamsE2\\table_basis.txt\", \"w\") as fp:\n",
    "    fp.write(result)"
   ]
  },
  {
   "cell_type": "code",
   "execution_count": 3,
   "metadata": {},
   "outputs": [],
   "source": [
    "import output_latex as latex\n",
    "path_ring = R'C:\\Users\\lwnpk\\Documents\\Projects\\algtop_cpp_build\\bin\\Release\\main\\S0_AdamsSS_t261.db'\n",
    "result = latex.str_relations_from_db(path_ring)\n",
    "with open(R\"C:\\Users\\lwnpk\\OneDrive\\Documents\\Math\\TeX\\MyWorks\\Big Charts\\S0_AdamsE2\\table_relations.txt\", \"w\") as fp:\n",
    "    fp.write(result)"
   ]
  },
  {
   "cell_type": "code",
   "execution_count": 38,
   "metadata": {},
   "outputs": [],
   "source": []
  },
  {
   "cell_type": "code",
   "execution_count": null,
   "metadata": {},
   "outputs": [],
   "source": []
  }
 ],
 "metadata": {
  "kernelspec": {
   "display_name": "Python 3",
   "language": "python",
   "name": "python3"
  },
  "language_info": {
   "codemirror_mode": {
    "name": "ipython",
    "version": 3
   },
   "file_extension": ".py",
   "mimetype": "text/x-python",
   "name": "python",
   "nbconvert_exporter": "python",
   "pygments_lexer": "ipython3",
   "version": "3.11.0"
  },
  "orig_nbformat": 4
 },
 "nbformat": 4,
 "nbformat_minor": 2
}

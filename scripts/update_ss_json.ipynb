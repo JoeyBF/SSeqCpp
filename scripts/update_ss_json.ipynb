{
 "cells": [
  {
   "cell_type": "code",
   "execution_count": 31,
   "metadata": {},
   "outputs": [],
   "source": [
    "from pathlib import Path\n",
    "import re\n",
    "import shutil"
   ]
  },
  {
   "cell_type": "code",
   "execution_count": 32,
   "metadata": {},
   "outputs": [],
   "source": [
    "str_path_ss = R\"C:\\Users\\lwnpk\\Documents\\Projects\\algtop_cpp_build\\bin\\Release\\mix\"\n",
    "str_path_download = R\"Z:\\download\"\n",
    "# str_path_ss = R\"/Users/weinanlin/Projects/algtop_cpp_build/bin/mix\"\n",
    "# str_path_download = R\"/Users/weinanlin/MyData/Math_AlgTop/databases/download\"\n",
    "path_ss = Path(str_path_ss)\n",
    "path_download = Path(str_path_download)"
   ]
  },
  {
   "cell_type": "code",
   "execution_count": 33,
   "metadata": {},
   "outputs": [],
   "source": [
    "is_AdamsSS_regex = \"(^(\\\\w+)_AdamsSS_t(\\\\d+).db$)\"\n",
    "is_map_SS_regex = \"(^map_AdamsSS_(\\\\w+_to_\\\\w+)_t(\\\\d+).db$)\""
   ]
  },
  {
   "cell_type": "code",
   "execution_count": 34,
   "metadata": {},
   "outputs": [],
   "source": [
    "def get_data(path_dir: Path):\n",
    "    spectra = {}\n",
    "    maps = {}\n",
    "    for path_file in path_dir.iterdir():\n",
    "        matches = re.findall(is_AdamsSS_regex, path_file.name)\n",
    "        if matches:\n",
    "            if matches[0][1] not in spectra or spectra[matches[0][1]][\"t_max\"] < int(matches[0][2]):\n",
    "                spectra[matches[0][1]] = {\"path\": matches[0][0], \"full_path\": str(path_file), \"t_max\": int(matches[0][2])}\n",
    "        else:\n",
    "            matches = re.findall(is_map_SS_regex, path_file.name)\n",
    "            if matches:\n",
    "                if matches[0][1] not in maps or maps[matches[0][1]][\"t_max\"] < int(matches[0][2]):\n",
    "                    maps[matches[0][1]] = {\"path\": matches[0][0], \"full_path\": str(path_file), \"t_max\": int(matches[0][2])}\n",
    "    return spectra, maps"
   ]
  },
  {
   "cell_type": "code",
   "execution_count": 35,
   "metadata": {},
   "outputs": [],
   "source": [
    "spectra_ss, maps_ss = get_data(path_ss)\n",
    "spectra_d, maps_d = get_data(path_download)"
   ]
  },
  {
   "cell_type": "code",
   "execution_count": 36,
   "metadata": {},
   "outputs": [
    {
     "name": "stdout",
     "output_type": "stream",
     "text": [
      "CW_2_theta5_2_Eq_eta_theta5 191 -> 200\n",
      "CW_2_V_eta 191 -> 200\n",
      "CW_eta_2_eta_Eq_2_nu 186 -> 200\n",
      "CW_eta_2_eta_Eq_nu_2 193 -> 200\n",
      "CW_eta_nu_eta_Eq_nu_nu 178 -> 186\n",
      "CW_eta_nu_sigma 190 -> 200\n",
      "CW_sigmasq_2_sigmasq 181 -> 191\n",
      "CW_sigma_nu_eta 190 -> 200\n",
      "C2_to_CW_eta_2_eta_Eq_2_nu 186 -> 193\n",
      "Ceta_to_CW_eta_V_nu 184 -> 186\n",
      "Cnu_Csigma_to_Cnu 187 -> 200\n",
      "Cnu_Csigma_to_Csigma 187 -> 200\n",
      "Cnu_to_CW_eta_nu_eta_Eq_nu_nu 178 -> 184\n",
      "Csigma_to_CW_nu_sigma_nu_Eq_sigma_sigma 184 -> 189\n",
      "CW_2_V_eta_to_CW_2_theta5_2_Eq_eta_theta5 185 -> 192\n",
      "CW_2_V_eta_to_Joker 185 -> 192\n",
      "CW_eta_2_eta_Eq_2_nu_to_Cnu 186 -> 193\n",
      "CW_eta_2_eta_Eq_2_nu_to_CW_2_eta 186 -> 193\n",
      "CW_eta_2_to_CW_eta_2_eta_Eq_2_nu 186 -> 193\n",
      "CW_eta_nu_eta_Eq_nu_nu_to_Cnu 178 -> 184\n",
      "CW_eta_nu_to_CW_eta_nu_eta_Eq_nu_nu 178 -> 184\n",
      "CW_eta_V_nu_to_Ceta_Cnu 174 -> 186\n",
      "CW_eta_V_nu_to_CW_eta_2_eta_Eq_nu_2 182 -> 186\n",
      "CW_eta_V_nu_to_CW_eta_nu_eta_Eq_nu_nu 178 -> 184\n",
      "CW_nu_sigma_nu_Eq_sigma_sigma_to_CW_sigma_nu 181 -> 189\n",
      "CW_nu_V_sigma_to_CW_nu_sigma_nu_Eq_sigma_sigma 183 -> 189\n",
      "CW_sigmasq_2_sigmasq_to_C2h4 179 -> 188\n",
      "CW_theta4_2_theta4_to_C2h5 187 -> 194\n"
     ]
    }
   ],
   "source": [
    "with open(path_ss / \"ss.json\") as fp:\n",
    "    content = fp.read()\n",
    "for name_d in spectra_d:\n",
    "    if name_d in spectra_ss and spectra_d[name_d][\"t_max\"] > spectra_ss[name_d][\"t_max\"]:\n",
    "        t_max_d, t_max_ss = spectra_d[name_d][\"t_max\"], spectra_ss[name_d][\"t_max\"]\n",
    "        print(name_d, t_max_ss, \"->\", t_max_d)\n",
    "        content = re.sub(f\"{spectra_ss[name_d]['path']}\", f\"{spectra_d[name_d]['path']}\", content)\n",
    "for name_d in maps_d:\n",
    "    if name_d in maps_ss and maps_d[name_d][\"t_max\"] > maps_ss[name_d][\"t_max\"]:\n",
    "        t_max_d, t_max_ss = maps_d[name_d][\"t_max\"], maps_ss[name_d][\"t_max\"]\n",
    "        print(name_d, t_max_ss, \"->\", t_max_d)\n",
    "        content = re.sub(f\"{maps_ss[name_d]['path']}(.*)\\\"t_max\\\": {t_max_ss}\", f\"{maps_d[name_d]['path']}\\\\1\\\"t_max\\\": {t_max_d}\",  content)\n",
    "for name_d in spectra_d:\n",
    "    if name_d in spectra_ss and spectra_d[name_d][\"t_max\"] > spectra_ss[name_d][\"t_max\"]:\n",
    "        t_max_d, t_max_ss = spectra_d[name_d][\"t_max\"], spectra_ss[name_d][\"t_max\"]\n",
    "        Path(spectra_ss[name_d]['full_path']).unlink()\n",
    "        shutil.move(spectra_d[name_d]['full_path'], path_ss / spectra_d[name_d]['path'])\n",
    "for name_d in maps_d:\n",
    "    if name_d in maps_ss and maps_d[name_d][\"t_max\"] > maps_ss[name_d][\"t_max\"]:\n",
    "        t_max_d, t_max_ss = maps_d[name_d][\"t_max\"], maps_ss[name_d][\"t_max\"]\n",
    "        Path(maps_ss[name_d]['full_path']).unlink()\n",
    "        shutil.move(maps_d[name_d]['full_path'], path_ss / maps_d[name_d]['path'])\n",
    "with open(path_ss / \"ss.json\", \"w\") as fp:\n",
    "    fp.write(content)"
   ]
  },
  {
   "cell_type": "code",
   "execution_count": null,
   "metadata": {},
   "outputs": [],
   "source": []
  }
 ],
 "metadata": {
  "kernelspec": {
   "display_name": "Python 3",
   "language": "python",
   "name": "python3"
  },
  "language_info": {
   "codemirror_mode": {
    "name": "ipython",
    "version": 3
   },
   "file_extension": ".py",
   "mimetype": "text/x-python",
   "name": "python",
   "nbconvert_exporter": "python",
   "pygments_lexer": "ipython3",
   "version": "3.11.0"
  },
  "orig_nbformat": 4
 },
 "nbformat": 4,
 "nbformat_minor": 2
}

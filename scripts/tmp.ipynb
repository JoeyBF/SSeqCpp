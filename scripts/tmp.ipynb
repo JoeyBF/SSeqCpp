{
 "cells": [
  {
   "cell_type": "code",
   "execution_count": 1,
   "metadata": {},
   "outputs": [],
   "source": [
    "import os"
   ]
  },
  {
   "cell_type": "code",
   "execution_count": 12,
   "metadata": {},
   "outputs": [],
   "source": [
    "download = sorted(os.listdir(\"Z:\\download\\AdamsSS\"))"
   ]
  },
  {
   "cell_type": "code",
   "execution_count": 13,
   "metadata": {},
   "outputs": [],
   "source": [
    "mix = sorted(os.listdir(R\"C:\\Users\\lwnpk\\Documents\\Projects\\algtop_cpp_build\\bin\\Release\\mix\"))"
   ]
  },
  {
   "cell_type": "code",
   "execution_count": 14,
   "metadata": {},
   "outputs": [
    {
     "data": {
      "text/plain": [
       "{'CW_2_eta_AdamsSS_t200.db',\n",
       " 'RP1_10_AdamsSS_t180.db',\n",
       " 'RP1_12_AdamsSS_t178.db',\n",
       " 'RP1_256_AdamsSS_t200.db',\n",
       " 'RP1_4_AdamsSS_t200.db',\n",
       " 'RP1_6_AdamsSS_t183.db',\n",
       " 'RP1_8_AdamsSS_t180.db',\n",
       " 'map_AdamsSS_CW_nu_eta_2_etasigma__Cetasigma_t180.db',\n",
       " 'map_AdamsSS_Ctheta5sq__C2_by_eta_t197.db'}"
      ]
     },
     "execution_count": 14,
     "metadata": {},
     "output_type": "execute_result"
    }
   ],
   "source": [
    "set(download) & set(mix)"
   ]
  },
  {
   "cell_type": "code",
   "execution_count": null,
   "metadata": {},
   "outputs": [],
   "source": []
  }
 ],
 "metadata": {
  "kernelspec": {
   "display_name": "Python 3",
   "language": "python",
   "name": "python3"
  },
  "language_info": {
   "codemirror_mode": {
    "name": "ipython",
    "version": 3
   },
   "file_extension": ".py",
   "mimetype": "text/x-python",
   "name": "python",
   "nbconvert_exporter": "python",
   "pygments_lexer": "ipython3",
   "version": "3.11.0"
  }
 },
 "nbformat": 4,
 "nbformat_minor": 2
}
